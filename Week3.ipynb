{
 "cells": [
  {
   "cell_type": "markdown",
   "id": "d71b7a31",
   "metadata": {},
   "source": [
    "# Learning Outcome\n",
    "1. Load, display and show images. \n",
    "2. Load, show and save videos.\n",
    "3. Resize images"
   ]
  },
  {
   "cell_type": "markdown",
   "id": "686b4a38",
   "metadata": {},
   "source": [
    "## Why OpenCV?\n",
    "- Compatible in multiple OS, like Windows, Linux, and MacOS, can be written in different languages:c++, Python, and Java\n",
    "- Interoperable with Numpy modules, thereby faster computation of image array\n",
    "- Large community support, a lot of resources (articles and stackflow posts)."
   ]
  },
  {
   "cell_type": "markdown",
   "id": "bcea3af3",
   "metadata": {},
   "source": [
    "## Image formats\n",
    "- JPEG (.jpg, .jpeg, .jfif)\n",
    "    - photos taken from camera\n",
    "- PNG (.png)\n",
    "    - website, larger file size compare to JPEG\n",
    "- tiff (.tiff)\n",
    "    - high-quality printing, large file size\n",
    "- bmp (.bmp)\n",
    "    - multiple user, large file size.\n",
    "- GIF (.gif) (opencv cant deal with this format)\n",
    "    - animations, shallow colour depth\n",
    "- webp (.webp)\n",
    "    - smaller file size compared to JPEG and PNG, IE 11 not supported"
   ]
  },
  {
   "cell_type": "code",
   "execution_count": 1,
   "id": "9bf5d6ca",
   "metadata": {},
   "outputs": [
    {
     "name": "stdout",
     "output_type": "stream",
     "text": [
      "Requirement already satisfied: opencv-contrib-python in c:\\users\\hp\\anaconda3\\lib\\site-packages (4.8.0.74)\n",
      "Requirement already satisfied: numpy>=1.19.3 in c:\\users\\hp\\anaconda3\\lib\\site-packages (from opencv-contrib-python) (1.24.3)\n"
     ]
    }
   ],
   "source": [
    "!pip install opencv-contrib-python"
   ]
  },
  {
   "cell_type": "code",
   "execution_count": 2,
   "id": "d659e2e3",
   "metadata": {},
   "outputs": [],
   "source": [
    "import sys\n",
    "# at least python 3.7\n",
    "assert sys.version_info >= (3,7)\n",
    "\n",
    "import numpy as np\n",
    "import cv2 as cv"
   ]
  },
  {
   "cell_type": "code",
   "execution_count": null,
   "id": "f296ae39",
   "metadata": {},
   "outputs": [],
   "source": []
  },
  {
   "cell_type": "code",
   "execution_count": 3,
   "id": "72a29c84",
   "metadata": {},
   "outputs": [
    {
     "name": "stdout",
     "output_type": "stream",
     "text": [
      "4.8.0\n"
     ]
    }
   ],
   "source": [
    "#check OpenCV version\n",
    "print(cv.__version__)"
   ]
  },
  {
   "cell_type": "markdown",
   "id": "2f8c6c0c",
   "metadata": {},
   "source": [
    "# Load and show images"
   ]
  },
  {
   "cell_type": "code",
   "execution_count": 4,
   "id": "72562b85",
   "metadata": {},
   "outputs": [],
   "source": [
    "img = cv.imread(\"lena.jfif\")\n",
    "#second argument: 1(default), 0(grayscale), -1(cv.IMREAD_UNCHANGED)\n",
    "grayscale = cv.imread(\"lena.jfif\",0)\n",
    "\n",
    "cv.imshow(\"lena_color\",img)\n",
    "cv.imshow(\"lena_grayscale\",grayscale)\n",
    "cv.waitKey(0) # key binding function: wait for user response\n",
    "cv.destroyAllWindows()"
   ]
  },
  {
   "cell_type": "code",
   "execution_count": 5,
   "id": "3d994f90",
   "metadata": {},
   "outputs": [],
   "source": [
    "def show_img(window_name,img):\n",
    "    \"\"\"2 arguments: window name and image\"\"\"\n",
    "    cv.imshow(window_name,img)\n",
    "    cv.waitKey(0) # key binding function: wait for user response\n",
    "    cv.destroyAllWindows()"
   ]
  },
  {
   "cell_type": "code",
   "execution_count": 6,
   "id": "087299b1",
   "metadata": {},
   "outputs": [
    {
     "ename": "error",
     "evalue": "OpenCV(4.8.0) D:\\a\\opencv-python\\opencv-python\\opencv\\modules\\highgui\\src\\window.cpp:971: error: (-215:Assertion failed) size.width>0 && size.height>0 in function 'cv::imshow'\n",
     "output_type": "error",
     "traceback": [
      "\u001b[1;31m---------------------------------------------------------------------------\u001b[0m",
      "\u001b[1;31merror\u001b[0m                                     Traceback (most recent call last)",
      "Input \u001b[1;32mIn [6]\u001b[0m, in \u001b[0;36m<cell line: 4>\u001b[1;34m()\u001b[0m\n\u001b[0;32m      1\u001b[0m \u001b[38;5;66;03m#png\u001b[39;00m\n\u001b[0;32m      2\u001b[0m img \u001b[38;5;241m=\u001b[39m cv\u001b[38;5;241m.\u001b[39mimread(\u001b[38;5;124m\"\u001b[39m\u001b[38;5;124mlena.png\u001b[39m\u001b[38;5;124m\"\u001b[39m)\n\u001b[1;32m----> 4\u001b[0m \u001b[43mshow_img\u001b[49m\u001b[43m(\u001b[49m\u001b[38;5;124;43m\"\u001b[39;49m\u001b[38;5;124;43mlena\u001b[39;49m\u001b[38;5;124;43m\"\u001b[39;49m\u001b[43m,\u001b[49m\u001b[43m \u001b[49m\u001b[43mimg\u001b[49m\u001b[43m)\u001b[49m\n",
      "Input \u001b[1;32mIn [5]\u001b[0m, in \u001b[0;36mshow_img\u001b[1;34m(window_name, img)\u001b[0m\n\u001b[0;32m      1\u001b[0m \u001b[38;5;28;01mdef\u001b[39;00m \u001b[38;5;21mshow_img\u001b[39m(window_name,img):\n\u001b[0;32m      2\u001b[0m     \u001b[38;5;124;03m\"\"\"2 arguments: window name and image\"\"\"\u001b[39;00m\n\u001b[1;32m----> 3\u001b[0m     \u001b[43mcv\u001b[49m\u001b[38;5;241;43m.\u001b[39;49m\u001b[43mimshow\u001b[49m\u001b[43m(\u001b[49m\u001b[43mwindow_name\u001b[49m\u001b[43m,\u001b[49m\u001b[43mimg\u001b[49m\u001b[43m)\u001b[49m\n\u001b[0;32m      4\u001b[0m     cv\u001b[38;5;241m.\u001b[39mwaitKey(\u001b[38;5;241m0\u001b[39m) \u001b[38;5;66;03m# key binding function: wait for user response\u001b[39;00m\n\u001b[0;32m      5\u001b[0m     cv\u001b[38;5;241m.\u001b[39mdestroyAllWindows()\n",
      "\u001b[1;31merror\u001b[0m: OpenCV(4.8.0) D:\\a\\opencv-python\\opencv-python\\opencv\\modules\\highgui\\src\\window.cpp:971: error: (-215:Assertion failed) size.width>0 && size.height>0 in function 'cv::imshow'\n"
     ]
    }
   ],
   "source": [
    "#png\n",
    "img = cv.imread(\"lena.png\")\n",
    "\n",
    "show_img(\"lena\", img)"
   ]
  },
  {
   "cell_type": "code",
   "execution_count": 7,
   "id": "77b083de",
   "metadata": {},
   "outputs": [
    {
     "ename": "error",
     "evalue": "OpenCV(4.8.0) D:\\a\\opencv-python\\opencv-python\\opencv\\modules\\highgui\\src\\window.cpp:971: error: (-215:Assertion failed) size.width>0 && size.height>0 in function 'cv::imshow'\n",
     "output_type": "error",
     "traceback": [
      "\u001b[1;31m---------------------------------------------------------------------------\u001b[0m",
      "\u001b[1;31merror\u001b[0m                                     Traceback (most recent call last)",
      "Input \u001b[1;32mIn [7]\u001b[0m, in \u001b[0;36m<cell line: 2>\u001b[1;34m()\u001b[0m\n\u001b[0;32m      1\u001b[0m img \u001b[38;5;241m=\u001b[39m cv\u001b[38;5;241m.\u001b[39mimread(\u001b[38;5;124m'\u001b[39m\u001b[38;5;124mlena.png\u001b[39m\u001b[38;5;124m'\u001b[39m)\n\u001b[1;32m----> 2\u001b[0m \u001b[43mcv\u001b[49m\u001b[38;5;241;43m.\u001b[39;49m\u001b[43mimshow\u001b[49m\u001b[43m(\u001b[49m\u001b[38;5;124;43m'\u001b[39;49m\u001b[38;5;124;43mPNG image\u001b[39;49m\u001b[38;5;124;43m'\u001b[39;49m\u001b[43m,\u001b[49m\u001b[43m \u001b[49m\u001b[43mimg\u001b[49m\u001b[43m)\u001b[49m\n\u001b[0;32m      3\u001b[0m cv\u001b[38;5;241m.\u001b[39mwaitKey(\u001b[38;5;241m0\u001b[39m)\n\u001b[0;32m      4\u001b[0m cv\u001b[38;5;241m.\u001b[39mdestroyAllWindows()\n",
      "\u001b[1;31merror\u001b[0m: OpenCV(4.8.0) D:\\a\\opencv-python\\opencv-python\\opencv\\modules\\highgui\\src\\window.cpp:971: error: (-215:Assertion failed) size.width>0 && size.height>0 in function 'cv::imshow'\n"
     ]
    }
   ],
   "source": [
    "img = cv.imread('lena.png')\n",
    "cv.imshow('PNG image', img)\n",
    "cv.waitKey(0)\n",
    "cv.destroyAllWindows()"
   ]
  },
  {
   "cell_type": "code",
   "execution_count": 8,
   "id": "a70acfb9",
   "metadata": {},
   "outputs": [
    {
     "name": "stdout",
     "output_type": "stream",
     "text": [
      "Requirement already satisfied: imageio in c:\\users\\hp\\anaconda3\\lib\\site-packages (2.9.0)\n",
      "Requirement already satisfied: numpy in c:\\users\\hp\\anaconda3\\lib\\site-packages (from imageio) (1.24.3)\n",
      "Requirement already satisfied: pillow in c:\\users\\hp\\anaconda3\\lib\\site-packages (from imageio) (9.0.1)\n"
     ]
    }
   ],
   "source": [
    "!pip install imageio"
   ]
  },
  {
   "cell_type": "code",
   "execution_count": 9,
   "id": "93135eb0",
   "metadata": {},
   "outputs": [],
   "source": [
    "import imageio"
   ]
  },
  {
   "cell_type": "code",
   "execution_count": 10,
   "id": "97f9a2b6",
   "metadata": {},
   "outputs": [],
   "source": [
    "#gif\n",
    "GIF = imageio.mimread(\"rotating_earth_large.gif\")\n",
    "#chage to BGR from RBG\n",
    "imgs = [cv.cvtColor(img,cv.COLOR_RGB2BGR)for img in GIF]\n",
    "\n",
    "for img in imgs:\n",
    "    cv.imshow(\"GIF\",img)\n",
    "    cv.waitKey(200)\n",
    "    \n",
    "cv.destroyAllWindows()"
   ]
  },
  {
   "cell_type": "markdown",
   "id": "bbe80587",
   "metadata": {},
   "source": [
    "## save images\n",
    "    cv.imwrite(filepath, img)"
   ]
  },
  {
   "cell_type": "code",
   "execution_count": 11,
   "id": "d475a8ed",
   "metadata": {},
   "outputs": [],
   "source": [
    "#a more formalized approach\n",
    "img = cv.imread(cv.samples.findFile(\"lena.jfif\"))\n",
    "\n",
    "if img is None:\n",
    "    sys.exit(\"Not a valid filepath\")\n",
    "    \n",
    "cv.imshow(\"img\",img)\n",
    "k=cv.waitKey(0) & 0xFF\n",
    "if k == ord('s'): #press 's' button\n",
    "    cv.imwrite(\"lena_save.jpg\",img)\n",
    "    \n",
    "cv.destroyAllWindows()"
   ]
  },
  {
   "cell_type": "markdown",
   "id": "f85465e3",
   "metadata": {},
   "source": [
    "## same oprations on videos\n",
    "Load and show video"
   ]
  },
  {
   "cell_type": "code",
   "execution_count": 12,
   "id": "7ee40ed4",
   "metadata": {},
   "outputs": [
    {
     "name": "stdout",
     "output_type": "stream",
     "text": [
      "The actual frame rate from the file: 0.0\n"
     ]
    },
    {
     "ename": "NameError",
     "evalue": "name 'end' is not defined",
     "output_type": "error",
     "traceback": [
      "\u001b[1;31m---------------------------------------------------------------------------\u001b[0m",
      "\u001b[1;31mNameError\u001b[0m                                 Traceback (most recent call last)",
      "Input \u001b[1;32mIn [12]\u001b[0m, in \u001b[0;36m<cell line: 23>\u001b[1;34m()\u001b[0m\n\u001b[0;32m     21\u001b[0m \u001b[38;5;28mprint\u001b[39m(\u001b[38;5;124mf\u001b[39m\u001b[38;5;124m\"\u001b[39m\u001b[38;5;124mThe actual frame rate from the file: \u001b[39m\u001b[38;5;132;01m{\u001b[39;00mcap\u001b[38;5;241m.\u001b[39mget(\u001b[38;5;241m5\u001b[39m)\u001b[38;5;132;01m}\u001b[39;00m\u001b[38;5;124m\"\u001b[39m)\n\u001b[0;32m     22\u001b[0m n_frames \u001b[38;5;241m=\u001b[39m cap\u001b[38;5;241m.\u001b[39mget(\u001b[38;5;241m7\u001b[39m)\n\u001b[1;32m---> 23\u001b[0m \u001b[38;5;28mprint\u001b[39m(\u001b[38;5;124mf\u001b[39m\u001b[38;5;124m\"\u001b[39m\u001b[38;5;124mThe fps is stream using OpenCV: \u001b[39m\u001b[38;5;132;01m{\u001b[39;00mn_frames \u001b[38;5;241m/\u001b[39m (end\u001b[38;5;241m-\u001b[39mstart)\u001b[38;5;132;01m}\u001b[39;00m\u001b[38;5;124m\"\u001b[39m)\n",
      "\u001b[1;31mNameError\u001b[0m: name 'end' is not defined"
     ]
    }
   ],
   "source": [
    "cap = cv.VideoCapture(\"img_pexels.mp4\")\n",
    "\n",
    "if not cap.isOpened():\n",
    "    sys.exit(\"No video file found\")\n",
    "    \n",
    "while True:\n",
    "    ret, frame = cap.read()\n",
    "    \n",
    "    if not ret:\n",
    "        print(\"No frame received!\")\n",
    "        break\n",
    "        \n",
    "    cv.imshow(\"frame\",frame)\n",
    "    k = cv.waitKey(1) & 0xFF\n",
    "    if k == 27:\n",
    "        break\n",
    "\n",
    "cap.release()\n",
    "cv.destroyAllWindows()\n",
    "\n",
    "print(f\"The actual frame rate from the file: {cap.get(5)}\")\n",
    "n_frames = cap.get(7)\n",
    "print(f\"The fps is stream using OpenCV: {n_frames / (end-start)}\")"
   ]
  },
  {
   "cell_type": "code",
   "execution_count": null,
   "id": "08da4cb1",
   "metadata": {},
   "outputs": [],
   "source": [
    "cap = cv.VideoCapture(0) # webcam\n",
    "\n",
    "if not cap.isOpened():\n",
    "    sys.exit(\"No webcam found\")\n",
    "    \n",
    "#save video object\n",
    "#arguments: filepath, fourcc, fps, width and height\n",
    "fourcc = cv.VideoWriter_fourcc(\"M\",\"J\",\"P\",\"G\")\n",
    "fps = 15\n",
    "w,h = int(cap.get((3)),int(cap.get(4)))\n",
    "out = cv.VideoWriter(\"video/out.avi\",fourcc,fps,(w,h))\n",
    "\n",
    "while True:\n",
    "     ret, frame = cap.read()\n",
    "    \n",
    "    if not ret:\n",
    "        print(\"No frame received!\")\n",
    "        break\n",
    "        \n",
    "    cv.imshow(\"frame\",frame)\n",
    "    k = cv.waitKey(1) & 0xFF\n",
    "    if k == 27:\n",
    "        break\n",
    "\n",
    "cap.release()\n",
    "cap.release()\n",
    "cv.destryAllWindows()"
   ]
  },
  {
   "cell_type": "code",
   "execution_count": null,
   "id": "3afc3e7e",
   "metadata": {},
   "outputs": [],
   "source": [
    "import time"
   ]
  },
  {
   "cell_type": "code",
   "execution_count": null,
   "id": "d4fee363",
   "metadata": {},
   "outputs": [],
   "source": [
    "cap = cv.VideoCapture(\"img_pexels.mp4\")\n",
    "\n",
    "if not cap.isOpened():\n",
    "    sys.exit(\"No video file found\")\n",
    "\n",
    "cv.namedWindow(\"frame\",cv.WINDOW_NORMAL)\n",
    "start = time.time() \n",
    "while True:\n",
    "    ret, frame = cap.read()\n",
    "    \n",
    "    if not ret:\n",
    "        print(\"No frame received!\")\n",
    "        break\n",
    "        \n",
    "    cv.imshow(\"frame\",frame)\n",
    "    k = cv.waitKey(1) & 0xFF\n",
    "    if k == 27:\n",
    "        break\n",
    "\n",
    "end = time.time() \n",
    "#cap.release()\n",
    "cv.destroyAllWindows()"
   ]
  },
  {
   "cell_type": "code",
   "execution_count": null,
   "id": "2e213a54",
   "metadata": {},
   "outputs": [],
   "source": [
    "print(f\"The actual frame rate from the file: {cap.get(5)}\")\n",
    "n_frames = cap.get(7)\n",
    "print(f\"The fps is stream using OpenCV: {n_frames / (end-start)}\")"
   ]
  },
  {
   "cell_type": "markdown",
   "id": "5bceaff5",
   "metadata": {},
   "source": [
    "## image resizing\n",
    "1. set arbitary dimension(w,h)\n",
    "2. scale factory"
   ]
  },
  {
   "cell_type": "code",
   "execution_count": null,
   "id": "bb2232e6",
   "metadata": {},
   "outputs": [],
   "source": [
    "# 1 method\n",
    "img = cv.imread(\"soccer.jpg\")-\n",
    "\n",
    "new_height = 450\n",
    "new_width = 300\n",
    "\n",
    "#third argument: fx, 4th: fy, 5th:interpolation methods(default:bilinear)\n",
    "img_resize = cv.resize(img,(new_width,new_height))\n",
    "\n",
    "cv.imshow(\"original\", img_resize)\n",
    "show_img(\"resize\",img_resize)"
   ]
  },
  {
   "cell_type": "code",
   "execution_count": null,
   "id": "376c5fb9",
   "metadata": {},
   "outputs": [],
   "source": [
    "img.shape"
   ]
  },
  {
   "cell_type": "code",
   "execution_count": null,
   "id": "c6338914",
   "metadata": {},
   "outputs": [],
   "source": [
    "#2 method: scale factor\n",
    "\n",
    "img = cv.imread(\"lena.jfif\")\n",
    "\n",
    "img_resize = cv.resize(img,None,fx=1.5,fy=1.5)\n",
    "cv.imshow(\"original\", img_resize)\n",
    "show_img(\"resize\",img_resize)"
   ]
  },
  {
   "cell_type": "markdown",
   "id": "94370eb8",
   "metadata": {},
   "source": [
    "## Exercise 1"
   ]
  },
  {
   "cell_type": "code",
   "execution_count": null,
   "id": "966b1897",
   "metadata": {},
   "outputs": [],
   "source": [
    "img = cv.imread(\"dog.jfif\")\n",
    "cv.imwrite(\"dog.png\", img)\n",
    "cv.imshow(\"dog.png\", img)\n",
    "cv.waitKey(0)\n",
    "cv.destroyAllWindows()"
   ]
  },
  {
   "cell_type": "markdown",
   "id": "b879bc18",
   "metadata": {},
   "source": [
    "## Exercise 2"
   ]
  },
  {
   "cell_type": "code",
   "execution_count": null,
   "id": "a8ef4e9c",
   "metadata": {},
   "outputs": [],
   "source": [
    "# 1 methods: cv.imshow() called twice\n",
    "img = cv.imread(\"lena.jfif\")\n",
    "grayscale = cv.cvtColor(img,cv.COLOR_BGR2GRAY)\n",
    "\n",
    "cv.imshow(\"lena\",img)\n",
    "show_img(\"grayscale\",grayscale)"
   ]
  },
  {
   "cell_type": "code",
   "execution_count": null,
   "id": "b245d862",
   "metadata": {},
   "outputs": [],
   "source": [
    "#2 : import external module: matplotlib\n",
    "import matplotlib.pyplot as plt"
   ]
  },
  {
   "cell_type": "code",
   "execution_count": null,
   "id": "ef99d78c",
   "metadata": {},
   "outputs": [],
   "source": [
    "img_rgb = cv. cvtColor(img,cv.COLOR_BGR2RGB)\n",
    "\n",
    "plt.subplot(121)\n",
    "plt.imshow(img_rgb)\n",
    "plt.xticks([]),plt.yticks([])\n",
    "plt.subplot(122)\n",
    "plt.imshow(grayscale,cmap=plt.cm.gray)\n",
    "plt.xticks([]),plt.yticks([])\n",
    "plt.suptitle(\"color vs grayscale\")\n",
    "plt.show()"
   ]
  },
  {
   "cell_type": "code",
   "execution_count": null,
   "id": "560a6536",
   "metadata": {},
   "outputs": [],
   "source": [
    "#3 method: concatenate (join array)\n",
    "gray = cv.cvtColor(grayscale,cv.COLOR_GRAY2BGR)\n",
    "img_combined = np.hstack ((img, gray))\n",
    "\n",
    "show_img(\"joined\", img_combined)"
   ]
  },
  {
   "cell_type": "markdown",
   "id": "72342aee",
   "metadata": {},
   "source": [
    "### Exercise 3"
   ]
  },
  {
   "cell_type": "code",
   "execution_count": null,
   "id": "ad5745f9",
   "metadata": {},
   "outputs": [],
   "source": []
  },
  {
   "cell_type": "code",
   "execution_count": 13,
   "id": "2eea0039",
   "metadata": {},
   "outputs": [],
   "source": [
    "cap = cv.VideoCapture(\"img_pexels.mp4\")\n",
    "\n",
    "if not cap.isOpened():\n",
    "    sys.exit(\"No video file found\")\n",
    "    \n",
    "while True:\n",
    "    ret, frame = cap.read()\n",
    "    w = int(cap.get(3))//2 \n",
    "    h = int(cap.get(4))//2\n",
    "    fps = cap.get(5)//2\n",
    "    fourcc = cv.VideoWriter_fourcc(*'mp4v')\n",
    "    out = cv.VideoWriter(\"smaller_img_pexels.mp4\", fourcc, fps, (w,h))\n",
    "    \n",
    "    \n",
    "    if not ret:\n",
    "        print(\"No frame received!\")\n",
    "        break\n",
    "        \n",
    "    frame = cv.resize(frame, (w, h))\n",
    "    cv.namedWindow(\"smaller frame\", cv.WINDOW_NORMAL)\n",
    "    cv.imshow(\"smaller frame\", frame)\n",
    "    out.write(frame)\n",
    "    k = cv.waitKey(1) & 0xFF\n",
    "    if k == 27:\n",
    "        break\n",
    "\n",
    "cap.release()\n",
    "out.release()\n",
    "cv.destroyAllWindows()"
   ]
  },
  {
   "cell_type": "markdown",
   "id": "6fd4ded1",
   "metadata": {},
   "source": [
    "### Exercise 4"
   ]
  },
  {
   "cell_type": "code",
   "execution_count": 20,
   "id": "94bd1f61",
   "metadata": {},
   "outputs": [],
   "source": [
    "#1\n",
    "img = cv.imread(\"dog.jfif\")\n",
    "img_linear = cv.resize(img,None, fx = 2, fy = 2, interpolation=cv.INTER_LINEAR)\n",
    "\n",
    "show_img(\"Linear interpolation\", img_linear)\n"
   ]
  },
  {
   "cell_type": "code",
   "execution_count": 21,
   "id": "db5bc04f",
   "metadata": {},
   "outputs": [],
   "source": [
    "#2\n",
    "img_linear = cv.resize(img,None, fx = 2, fy = 2, interpolation=cv.INTER_CUBIC)\n",
    "\n",
    "show_img(\"Cubic interpolation\", img_linear)\n"
   ]
  },
  {
   "cell_type": "code",
   "execution_count": 22,
   "id": "bd937206",
   "metadata": {},
   "outputs": [],
   "source": [
    "#3\n",
    "img_linear = cv.resize(img,None, fx = 2, fy = 2, interpolation=cv.INTER_NEAREST)\n",
    "\n",
    "show_img(\"Nearest neighbour interpolation\", img_linear)\n"
   ]
  },
  {
   "cell_type": "code",
   "execution_count": null,
   "id": "479fc1ff",
   "metadata": {},
   "outputs": [],
   "source": []
  },
  {
   "cell_type": "code",
   "execution_count": null,
   "id": "3c2423bd",
   "metadata": {},
   "outputs": [],
   "source": []
  },
  {
   "cell_type": "code",
   "execution_count": null,
   "id": "782680f4",
   "metadata": {},
   "outputs": [],
   "source": []
  },
  {
   "cell_type": "code",
   "execution_count": null,
   "id": "8fd7a0ea",
   "metadata": {},
   "outputs": [],
   "source": []
  },
  {
   "cell_type": "code",
   "execution_count": null,
   "id": "6e48b752",
   "metadata": {},
   "outputs": [],
   "source": []
  },
  {
   "cell_type": "code",
   "execution_count": null,
   "id": "04de7c3a",
   "metadata": {},
   "outputs": [],
   "source": []
  },
  {
   "cell_type": "code",
   "execution_count": null,
   "id": "4c2cb09c",
   "metadata": {},
   "outputs": [],
   "source": []
  },
  {
   "cell_type": "code",
   "execution_count": null,
   "id": "3115fc35",
   "metadata": {},
   "outputs": [],
   "source": []
  },
  {
   "cell_type": "code",
   "execution_count": null,
   "id": "08e62f1e",
   "metadata": {},
   "outputs": [],
   "source": []
  },
  {
   "cell_type": "code",
   "execution_count": null,
   "id": "e384397a",
   "metadata": {},
   "outputs": [],
   "source": []
  },
  {
   "cell_type": "code",
   "execution_count": null,
   "id": "0a67c547",
   "metadata": {},
   "outputs": [],
   "source": []
  },
  {
   "cell_type": "code",
   "execution_count": null,
   "id": "81ff5d40",
   "metadata": {},
   "outputs": [],
   "source": []
  },
  {
   "cell_type": "code",
   "execution_count": null,
   "id": "b25cdec4",
   "metadata": {},
   "outputs": [],
   "source": []
  }
 ],
 "metadata": {
  "kernelspec": {
   "display_name": "Python 3 (ipykernel)",
   "language": "python",
   "name": "python3"
  },
  "language_info": {
   "codemirror_mode": {
    "name": "ipython",
    "version": 3
   },
   "file_extension": ".py",
   "mimetype": "text/x-python",
   "name": "python",
   "nbconvert_exporter": "python",
   "pygments_lexer": "ipython3",
   "version": "3.9.12"
  }
 },
 "nbformat": 4,
 "nbformat_minor": 5
}
